{
 "cells": [
  {
   "cell_type": "code",
   "outputs": [],
   "source": [
    "from  typing import Final\n",
    "import numpy as np\n",
    "from scipy.signal import get_window"
   ],
   "metadata": {
    "collapsed": false,
    "ExecuteTime": {
     "end_time": "2024-03-22T01:28:50.212252Z",
     "start_time": "2024-03-22T01:28:50.208924Z"
    }
   },
   "id": "9b06c3bd493fb549",
   "execution_count": 73
  },
  {
   "cell_type": "code",
   "outputs": [],
   "source": [
    "verbose = False # To view output of arrays, set this to True, useful for understanding code\n",
    "\n",
    "def verbose_print(message):\n",
    "    if verbose:\n",
    "        print(message)"
   ],
   "metadata": {
    "collapsed": false,
    "ExecuteTime": {
     "end_time": "2024-03-22T01:28:50.225197Z",
     "start_time": "2024-03-22T01:28:50.222200Z"
    }
   },
   "id": "81293741912bac3e",
   "execution_count": 74
  },
  {
   "cell_type": "markdown",
   "source": [
    "The Leaky Integrate and Fire (LIF) neuronal model"
   ],
   "metadata": {
    "collapsed": false
   },
   "id": "6470b435976816e0"
  },
  {
   "cell_type": "markdown",
   "source": [
    "Model Parameters:"
   ],
   "metadata": {
    "collapsed": false
   },
   "id": "b0903d5442ebcbad"
  },
  {
   "cell_type": "code",
   "execution_count": 75,
   "id": "initial_id",
   "metadata": {
    "collapsed": true,
    "ExecuteTime": {
     "end_time": "2024-03-22T01:28:50.237345Z",
     "start_time": "2024-03-22T01:28:50.233867Z"
    }
   },
   "outputs": [],
   "source": [
    "TOTAL_SIMULATION_TIME: Final = 50  # Total simulation time in milliseconds [T]\n",
    "SIMULATION_TIME_INTERVAL: Final = 0.1  # Simulation time step in milliseconds [dt]\n",
    "STIMULUS_INITIALIZATION_TIME = 0  # Time at which stimulus begins in milliseconds [t_init]\n",
    "\n",
    "RESTING_POTENTIAL_VOLTAGE: Final = -70  # Resting membrane potential in mV [V_rest]\n",
    "MEMBRANE_RESISTANCE: Final = 1  # Membrane resistance in kOhm [Rm]\n",
    "MEMBRANE_CAPACITANCE: Final = 5  # Capacitance of the membrane in uF [Cm]\n",
    "REFRACTORY_PERIOD_TIME: Final = 1  # Refractory period duration in milliseconds [tau_ref]\n",
    "SPIKE_THRESHOLD_VOLTAGE: Final = -40  # Voltage threshold for spike initiation in mV [V_th]\n",
    "INPUT_CURRENT_AMPLITUDE: Final = 0.2  # Amplitude of input current in mA [I]\n",
    "SPIKE_PEAK_VOLTAGE: Final = 50  # Voltage level representing a spike in mV [V_spike]"
   ]
  },
  {
   "cell_type": "markdown",
   "source": [
    "Simulation parameters:"
   ],
   "metadata": {
    "collapsed": false
   },
   "id": "1d000bfcb8a137c3"
  },
  {
   "cell_type": "code",
   "outputs": [],
   "source": [
    "# np.arange creates an array of time points for our simulation, specified by (start, stop, step).\n",
    "# Starting at 0, we increment by the simulation time interval to simulate the neuron's behavior at each step.\n",
    "# Stop parameter is defined as total simulation time + time interval. This ensures that the final simulation time is included in array. For example, if we did not add the time interval, and we had an interval of 3 and total time of 10, we would stop at time of 9 and never reach 10.\n",
    "\n",
    "time_array = np.arange(0, TOTAL_SIMULATION_TIME + SIMULATION_TIME_INTERVAL,  SIMULATION_TIME_INTERVAL)\n",
    "verbose_print(time_array)"
   ],
   "metadata": {
    "collapsed": false,
    "ExecuteTime": {
     "end_time": "2024-03-22T01:28:50.242458Z",
     "start_time": "2024-03-22T01:28:50.239610Z"
    }
   },
   "id": "27bcc63f10739f0d",
   "execution_count": 76
  },
  {
   "cell_type": "code",
   "outputs": [],
   "source": [
    "# This initializes the membrane potential array (Vm) to the neuron's resting potential for all time steps.\n",
    "# To achieve this, we first do np.ones(len(time_array)). We end up with a new array the length of time_array, except this time the entire array consists of 1. We then multiply this new array by the resting potential, making a new array where every value is just the resting potential.\n",
    "\n",
    "# IMPORTANT: This array initialization serves as a baseline; actual potential values will be updated during the simulation part of the code, namely in the cell In 16, line 8.\n",
    "\n",
    "# membrane potential is also referred as Vm -- to represent Voltage membrane\n",
    "membrane_potential_array = np.ones(len(time_array)) * RESTING_POTENTIAL_VOLTAGE\n",
    "verbose_print(membrane_potential_array)"
   ],
   "metadata": {
    "collapsed": false,
    "ExecuteTime": {
     "end_time": "2024-03-22T01:28:50.247076Z",
     "start_time": "2024-03-22T01:28:50.244039Z"
    }
   },
   "id": "44777d468b78dd1e",
   "execution_count": 77
  },
  {
   "cell_type": "code",
   "outputs": [],
   "source": [
    "# The membrane time constant [tau_m], refers to the speed at which a neuron's membrane potential returns to equilibrium (resting potential) after a stimuli. Thus, it also is how fast a neuron can respond to a new stimuli.\n",
    "# Note that spikes are \"all or nothing.\" They cannot be interrupted or prolonged during polarization/depolarization (firing states) or hyperpolarization (recharging state), hence why the value of [tau_m] is so important.\n",
    "\n",
    "# To calculate:\n",
    "# 1. Convert membrane resistance [Rm] from kiloohms to ohms by multiplying Rm by 1e3 (1000), as 1 kΩ equals 1000 Ω.\n",
    "# 2. Convert membrane capacitance [Cm] from microfarads to farads by multiplying [Cm] by 1e-6, since 1 μF equals 1e-6 F.\n",
    "\n",
    "# Membrane time constant [tau_m] in seconds\n",
    "membrane_time_constant = MEMBRANE_RESISTANCE * 1e3 * MEMBRANE_CAPACITANCE * 1 * 1e-6\n",
    "verbose_print(membrane_time_constant)"
   ],
   "metadata": {
    "collapsed": false,
    "ExecuteTime": {
     "end_time": "2024-03-22T01:28:50.252933Z",
     "start_time": "2024-03-22T01:28:50.249726Z"
    }
   },
   "id": "e4aad7c7d3ceda78",
   "execution_count": 78
  },
  {
   "cell_type": "code",
   "outputs": [],
   "source": [
    "# We initialize an empty list, which we'll later use to record each time point which a 'spike' occurs.\n",
    "# Note that a spike occurs when a neuron fires an action potential.\n",
    "# In the context of the LIF model, a spike occurs when the membrane potential [Vm] reaches or surpasses the spike threshold voltage [V_th]. \n",
    "\n",
    "spikes = []"
   ],
   "metadata": {
    "collapsed": false,
    "ExecuteTime": {
     "end_time": "2024-03-22T01:28:50.257049Z",
     "start_time": "2024-03-22T01:28:50.254543Z"
    }
   },
   "id": "107fdd6cc908fad2",
   "execution_count": 79
  },
  {
   "cell_type": "markdown",
   "source": [
    "Defining the stimulus:"
   ],
   "metadata": {
    "collapsed": false
   },
   "id": "2af61457086d9d50"
  },
  {
   "cell_type": "code",
   "outputs": [],
   "source": [
    "# The stimulus array models how many Amperes [amps] of electrical current  is provided as external stimuli to the neuron at a given time point\n",
    "# The reason we're changing the stimulus is to measure the sensitivity of the neuron, and to see at what threshold an action potential is fired\n",
    "\n",
    "# Notes:\n",
    "# `INPUT_CURRENT_AMPLITUDE * 1e-3` converts the input current from milliamperes (mA) to amperes (A), since the INPUT_CURRENT_AMPLITUDE is given in mA and 1 mA = 1e-3 (-1000) amperes.\n",
    "\n",
    "# In signal processing, a 'window' is a way of analyzing a specific segment of the signal instead of the entire thing.\n",
    "# We form a window the shape of a triangle ('triang'). The length of this triangle is determined by len(time_array), which is the length of the time array.\n",
    "# The reason we're using a triangle window is to apply a scalar to the amplitude (calculated by `INPUT_CURRENT_AMPLITUDE * 1e-3`). The amplitude is a scalar, but by multiplying it with the triangle window, we're changing the amplitude reaching the neuron at every time point.\n",
    "# So with the triangular window, the amplitude reaching the neuron first increases linearly, until it reaches a peak. Afterward it starts decreasing linearly.\n",
    "\n",
    "input_stimulus_array = (INPUT_CURRENT_AMPLITUDE * 1e-3 * get_window('triang', len(time_array)))\n",
    "verbose_print(input_stimulus_array)"
   ],
   "metadata": {
    "collapsed": false,
    "ExecuteTime": {
     "end_time": "2024-03-22T01:28:50.260706Z",
     "start_time": "2024-03-22T01:28:50.258035Z"
    }
   },
   "id": "848e138909be2885",
   "execution_count": 80
  },
  {
   "cell_type": "markdown",
   "source": [
    "Simulation:"
   ],
   "metadata": {
    "collapsed": false
   },
   "id": "ce9b42e81f8a792f"
  },
  {
   "cell_type": "code",
   "outputs": [],
   "source": [
    "# Iterate over each time step (interval) in time array, excluding the last index, the notation that does this [:-1] is called negative array indexing in Python\n",
    "# The reason we exclude the last index is to prevent the program from going out of bounds\n",
    "for index, current_time in enumerate(time_array[:-1]):\n",
    "    if current_time > STIMULUS_INITIALIZATION_TIME:\n",
    "        # Calculate the membrane potential for the current time step based on the neuron's resting potential and the input stimulus\n",
    "        current_membrane_potential_voltage = (RESTING_POTENTIAL_VOLTAGE * 1e-3) + (MEMBRANE_RESISTANCE * 1e-3) * input_stimulus_array[index]\n",
    "        \n",
    "        # '(membrane_potential_array[index] - current_membrane_potential_voltage)' is the potential difference of the membrane\n",
    "        # 'np.exp(-SIMULATION_TIME_INTERVAL * -1e3 / membrane_time_constant)' we're converting the time interval to seconds and then divide it by the membrane time constant [tau_m]. Tau_m measures how long it takes for a membrane to reach 63% of its resting potential.\n",
    "        membrane_potential_array[index + 1] = current_membrane_potential_voltage + (membrane_potential_array[index] - current_membrane_potential_voltage) * np.exp(-SIMULATION_TIME_INTERVAL * 1e-3 / membrane_time_constant)\n",
    "        \n",
    "        # Check for spike condition, aka action potential\n",
    "        if membrane_potential_array[index] >= SPIKE_THRESHOLD_VOLTAGE * 1e-3:\n",
    "            spikes.append(current_time) # record time of action potential\n",
    "            membrane_potential_array[index] = SPIKE_PEAK_VOLTAGE * 1e-3 # set membrane potential equal to peak voltage to simulate spike\n",
    "            # After spike, neuron enters hyperpolarization and is not able to spike for a while\n",
    "            # Refactory Period Time + current time means neuron won't be able to spike until sometime in the future\n",
    "            STIMULUS_INITIALIZATION_TIME = current_time + REFRACTORY_PERIOD_TIME * 1e-3"
   ],
   "metadata": {
    "collapsed": false,
    "ExecuteTime": {
     "end_time": "2024-03-22T01:28:50.265894Z",
     "start_time": "2024-03-22T01:28:50.261765Z"
    }
   },
   "id": "d84e19e8394bb685",
   "execution_count": 81
  }
 ],
 "metadata": {
  "kernelspec": {
   "display_name": "Python 3",
   "language": "python",
   "name": "python3"
  },
  "language_info": {
   "codemirror_mode": {
    "name": "ipython",
    "version": 2
   },
   "file_extension": ".py",
   "mimetype": "text/x-python",
   "name": "python",
   "nbconvert_exporter": "python",
   "pygments_lexer": "ipython2",
   "version": "2.7.6"
  }
 },
 "nbformat": 4,
 "nbformat_minor": 5
}
